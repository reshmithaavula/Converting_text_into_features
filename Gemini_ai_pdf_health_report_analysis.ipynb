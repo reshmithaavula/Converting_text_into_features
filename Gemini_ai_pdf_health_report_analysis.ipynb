{
  "nbformat": 4,
  "nbformat_minor": 0,
  "metadata": {
    "colab": {
      "provenance": [],
      "authorship_tag": "ABX9TyP7zYrjG9U3a+UzfblAjdhZ",
      "include_colab_link": true
    },
    "kernelspec": {
      "name": "python3",
      "display_name": "Python 3"
    },
    "language_info": {
      "name": "python"
    }
  },
  "cells": [
    {
      "cell_type": "markdown",
      "metadata": {
        "id": "view-in-github",
        "colab_type": "text"
      },
      "source": [
        "<a href=\"https://colab.research.google.com/github/reshmithaavula/Converting_text_into_features/blob/main/Gemini_ai_pdf_health_report_analysis.ipynb\" target=\"_parent\"><img src=\"https://colab.research.google.com/assets/colab-badge.svg\" alt=\"Open In Colab\"/></a>"
      ]
    },
    {
      "cell_type": "code",
      "source": [
        "!pip install PyPDF2"
      ],
      "metadata": {
        "colab": {
          "base_uri": "https://localhost:8080/",
          "height": 0
        },
        "id": "LW4bCz-0_VPS",
        "outputId": "c8e6cfbe-9d7a-4bca-bf8c-ec2cc622a70b"
      },
      "execution_count": 6,
      "outputs": [
        {
          "output_type": "stream",
          "name": "stdout",
          "text": [
            "Requirement already satisfied: PyPDF2 in /usr/local/lib/python3.11/dist-packages (3.0.1)\n"
          ]
        }
      ]
    },
    {
      "cell_type": "code",
      "execution_count": 9,
      "metadata": {
        "colab": {
          "base_uri": "https://localhost:8080/",
          "height": 0
        },
        "id": "0AqC1PlN-YZH",
        "outputId": "34038ade-54f4-4759-dab3-4cb6add0917e"
      },
      "outputs": [
        {
          "output_type": "stream",
          "name": "stdout",
          "text": [
            "Requirement already satisfied: google-generativeai in /usr/local/lib/python3.11/dist-packages (0.8.4)\n",
            "Requirement already satisfied: google-ai-generativelanguage==0.6.15 in /usr/local/lib/python3.11/dist-packages (from google-generativeai) (0.6.15)\n",
            "Requirement already satisfied: google-api-core in /usr/local/lib/python3.11/dist-packages (from google-generativeai) (2.24.2)\n",
            "Requirement already satisfied: google-api-python-client in /usr/local/lib/python3.11/dist-packages (from google-generativeai) (2.160.0)\n",
            "Requirement already satisfied: google-auth>=2.15.0 in /usr/local/lib/python3.11/dist-packages (from google-generativeai) (2.38.0)\n",
            "Requirement already satisfied: protobuf in /usr/local/lib/python3.11/dist-packages (from google-generativeai) (4.25.6)\n",
            "Requirement already satisfied: pydantic in /usr/local/lib/python3.11/dist-packages (from google-generativeai) (2.10.6)\n",
            "Requirement already satisfied: tqdm in /usr/local/lib/python3.11/dist-packages (from google-generativeai) (4.67.1)\n",
            "Requirement already satisfied: typing-extensions in /usr/local/lib/python3.11/dist-packages (from google-generativeai) (4.12.2)\n",
            "Requirement already satisfied: proto-plus<2.0.0dev,>=1.22.3 in /usr/local/lib/python3.11/dist-packages (from google-ai-generativelanguage==0.6.15->google-generativeai) (1.26.1)\n",
            "Requirement already satisfied: googleapis-common-protos<2.0.0,>=1.56.2 in /usr/local/lib/python3.11/dist-packages (from google-api-core->google-generativeai) (1.69.1)\n",
            "Requirement already satisfied: requests<3.0.0,>=2.18.0 in /usr/local/lib/python3.11/dist-packages (from google-api-core->google-generativeai) (2.32.3)\n",
            "Requirement already satisfied: cachetools<6.0,>=2.0.0 in /usr/local/lib/python3.11/dist-packages (from google-auth>=2.15.0->google-generativeai) (5.5.2)\n",
            "Requirement already satisfied: pyasn1-modules>=0.2.1 in /usr/local/lib/python3.11/dist-packages (from google-auth>=2.15.0->google-generativeai) (0.4.1)\n",
            "Requirement already satisfied: rsa<5,>=3.1.4 in /usr/local/lib/python3.11/dist-packages (from google-auth>=2.15.0->google-generativeai) (4.9)\n",
            "Requirement already satisfied: httplib2<1.dev0,>=0.19.0 in /usr/local/lib/python3.11/dist-packages (from google-api-python-client->google-generativeai) (0.22.0)\n",
            "Requirement already satisfied: google-auth-httplib2<1.0.0,>=0.2.0 in /usr/local/lib/python3.11/dist-packages (from google-api-python-client->google-generativeai) (0.2.0)\n",
            "Requirement already satisfied: uritemplate<5,>=3.0.1 in /usr/local/lib/python3.11/dist-packages (from google-api-python-client->google-generativeai) (4.1.1)\n",
            "Requirement already satisfied: annotated-types>=0.6.0 in /usr/local/lib/python3.11/dist-packages (from pydantic->google-generativeai) (0.7.0)\n",
            "Requirement already satisfied: pydantic-core==2.27.2 in /usr/local/lib/python3.11/dist-packages (from pydantic->google-generativeai) (2.27.2)\n",
            "Requirement already satisfied: grpcio<2.0dev,>=1.33.2 in /usr/local/lib/python3.11/dist-packages (from google-api-core[grpc]!=2.0.*,!=2.1.*,!=2.10.*,!=2.2.*,!=2.3.*,!=2.4.*,!=2.5.*,!=2.6.*,!=2.7.*,!=2.8.*,!=2.9.*,<3.0.0dev,>=1.34.1->google-ai-generativelanguage==0.6.15->google-generativeai) (1.71.0)\n",
            "Requirement already satisfied: grpcio-status<2.0.dev0,>=1.33.2 in /usr/local/lib/python3.11/dist-packages (from google-api-core[grpc]!=2.0.*,!=2.1.*,!=2.10.*,!=2.2.*,!=2.3.*,!=2.4.*,!=2.5.*,!=2.6.*,!=2.7.*,!=2.8.*,!=2.9.*,<3.0.0dev,>=1.34.1->google-ai-generativelanguage==0.6.15->google-generativeai) (1.62.3)\n",
            "Requirement already satisfied: pyparsing!=3.0.0,!=3.0.1,!=3.0.2,!=3.0.3,<4,>=2.4.2 in /usr/local/lib/python3.11/dist-packages (from httplib2<1.dev0,>=0.19.0->google-api-python-client->google-generativeai) (3.2.1)\n",
            "Requirement already satisfied: pyasn1<0.7.0,>=0.4.6 in /usr/local/lib/python3.11/dist-packages (from pyasn1-modules>=0.2.1->google-auth>=2.15.0->google-generativeai) (0.6.1)\n",
            "Requirement already satisfied: charset-normalizer<4,>=2 in /usr/local/lib/python3.11/dist-packages (from requests<3.0.0,>=2.18.0->google-api-core->google-generativeai) (3.4.1)\n",
            "Requirement already satisfied: idna<4,>=2.5 in /usr/local/lib/python3.11/dist-packages (from requests<3.0.0,>=2.18.0->google-api-core->google-generativeai) (3.10)\n",
            "Requirement already satisfied: urllib3<3,>=1.21.1 in /usr/local/lib/python3.11/dist-packages (from requests<3.0.0,>=2.18.0->google-api-core->google-generativeai) (2.3.0)\n",
            "Requirement already satisfied: certifi>=2017.4.17 in /usr/local/lib/python3.11/dist-packages (from requests<3.0.0,>=2.18.0->google-api-core->google-generativeai) (2025.1.31)\n"
          ]
        }
      ],
      "source": [
        "!pip install google-generativeai --upgrade\n",
        "import google.generativeai as genai\n",
        "from google.colab import userdata\n",
        "GOOGLE_API_KEY = userdata.get('GOOGLE_API_KEY')\n",
        "genai.configure(api_key=GOOGLE_API_KEY)"
      ]
    },
    {
      "cell_type": "code",
      "source": [
        "import PyPDF2\n",
        "def extract_text_from_pdf(pdf_path):\n",
        "  \"\"\"Extracts text from a given heakth report PDF using PyPDF2.\"\"\"\n",
        "  text=\"\"\n",
        "  with open(pdf_path,'rb') as file:\n",
        "    reader=PyPDF2.PdfReader(file)\n",
        "    for page in reader.pages:\n",
        "      text+=page.extract_text()\n",
        "  return text"
      ],
      "metadata": {
        "id": "vYAXQU4f-6Lr"
      },
      "execution_count": 16,
      "outputs": []
    },
    {
      "cell_type": "code",
      "source": [
        "def extract_health_insightS(text):\n",
        "  \"\"\"Ask Gemini AI to extract key medical insights from the report.\"\"\"\n",
        "  model=genai.GenerativeModel(\"gemini-1.5-flash\")\n",
        "  prompt=f\"Extract key insights from the following health report:\\nn{text}\"\n",
        "  response=model.generate_content(prompt)\n",
        "  return response.text\n",
        "pdf_file=\"health_report.pdf\"\n",
        "extracted_text=extract_text_from_pdf(pdf_file)\n",
        "insights=extract_health_insightS(extracted_text)\n",
        "print(\"Key Insights:\\n\",insights)"
      ],
      "metadata": {
        "colab": {
          "base_uri": "https://localhost:8080/",
          "height": 540
        },
        "id": "0qiaPPJqA8Ko",
        "outputId": "10c90be4-c066-4ebe-896a-3f3e8d7f5a85"
      },
      "execution_count": 17,
      "outputs": [
        {
          "output_type": "stream",
          "name": "stdout",
          "text": [
            "Key Insights:\n",
            " **Key Insights from Mr. Kishan Goud's Health Report (MR2100003157):**\n",
            "\n",
            "This report shows results from several tests performed on January 2nd, 2021.  Here's a summary:\n",
            "\n",
            "**Infectious Disease Screen:**\n",
            "\n",
            "* **Widal Test:**  Elevated titers for *Salmonella Typhi* \"O\" (1:160) and \"H\" (1:80) suggest a possible past or present *Salmonella Typhi* infection.  However, the reference range is unclear due to inconsistencies in reporting \"1:20 dilution\".  Further investigation may be needed to confirm this. *Salmonella Paratyphi* AH and BH titers are within the reference range.\n",
            "* **Dengue Serology:** Negative for Dengue NS1 antigen, IgG, and IgM antibodies, indicating no current or recent dengue infection.\n",
            "* **Malaria:** Negative for both *Plasmodium falciparum* and *Plasmodium vivax*, ruling out malaria.\n",
            "\n",
            "**Hematology:**\n",
            "\n",
            "* **Complete Blood Picture (CBC):**  All values (Hemoglobin, RBC, WBC, Platelets, PCV) are within normal ranges. Differential counts are also within normal limits, showing a normal distribution of blood cells.\n",
            "* **Erythrocyte Sedimentation Rate (ESR):** Elevated (26 mm/hr in the first hour and 52 mm/hr in the second), suggesting inflammation or infection.  This result should be interpreted in the context of other findings.\n",
            "\n",
            "**Biochemistry:**\n",
            "\n",
            "* **Liver Function Tests (LFTs):** All liver enzymes (Alkaline Phosphatase, SGOT, SGPT, Bilirubin - total, direct, and indirect) are within normal ranges, indicating normal liver function. Total protein and albumin levels are also within normal ranges.\n",
            "* **Random Blood Glucose:**  Result is missing from the provided text.\n",
            "* **HbA1c:** 5.4%, within the normal non-diabetic range, indicating good blood sugar control.\n",
            "* **Serum Creatinine:** 0.8 mg/dl, within the normal range, indicating normal kidney function.\n",
            "* **Serum Electrolytes:** Sodium (122 mmol/l) is slightly low, while potassium and chloride are within the normal ranges.  The low sodium warrants further evaluation.\n",
            "\n",
            "\n",
            "**Overall:**\n",
            "\n",
            "The report shows some markers of past or present infection (elevated Widal test and ESR) but no evidence of active dengue or malaria infection.  Liver and kidney function appear normal except for slightly low sodium.  The low sodium levels should be investigated further.  The significance of the elevated Widal test needs clarification given the reference range is not completely clear.  The patient's doctor should interpret these findings in the context of his clinical presentation and history.\n",
            "\n"
          ]
        }
      ]
    },
    {
      "cell_type": "code",
      "source": [
        "def summarize_health_report(text):\n",
        "  \"\"\"Summarizes the health report using Gemini AI.\"\"\"\n",
        "  model=genai.GenerativeModel(\"gemini-1.5-flash\")\n",
        "  prompt=f\"Summarize the following health report in a concise manner:\\n\\n{text}\"\n",
        "  response=model.generate_content(prompt)\n",
        "  return response.text\n",
        "summary=summarize_health_report(extracted_text)\n",
        "print(\"Summary:\\n\",summary)"
      ],
      "metadata": {
        "colab": {
          "base_uri": "https://localhost:8080/",
          "height": 332
        },
        "id": "Xvas0n3SELjW",
        "outputId": "dac58566-d9d1-4e88-e371-4e77ea834515"
      },
      "execution_count": 18,
      "outputs": [
        {
          "output_type": "stream",
          "name": "stdout",
          "text": [
            "Summary:\n",
            " Mr. Kishan Goud's (MR2100003157) blood tests on 01/02/2021 showed:\n",
            "\n",
            "* **Widal Test:** Elevated titers for *Salmonella Typhi* \"O\" (1:160) and \"H\" (1:80), suggesting possible typhoid fever.  *Salmonella Paratyphi* AH and BH were within normal limits.\n",
            "* **Dengue Serology:** Negative for NS1 antigen, IgG, and IgM antibodies.\n",
            "* **ESR:** Elevated (26 mm/hr, 52 mm/hr), indicating inflammation.\n",
            "* **Malaria Test:** Negative for both *Plasmodium falciparum* and *Plasmodium vivax*.\n",
            "* **Complete Blood Picture:**  Hemoglobin, RBC, WBC, and platelets within normal limits; differential count also normal.  Peripheral smear showed normocytic/normochromic RBCs and WBCs within normal limits.\n",
            "* **HbA1c:** 5.4%, within the normal range for non-diabetics.\n",
            "* **Serum Creatinine:** 0.8 mg/dl, within the normal range.\n",
            "* **Random Blood Glucose:**  Result not provided.\n",
            "* **Liver Function Test:** All values within normal limits.\n",
            "* **Serum Electrolytes:** Sodium (122 mmol/l) slightly low; potassium and chloride within normal limits.\n",
            "\n",
            "\n",
            "**Overall:** The results suggest a possible typhoid infection indicated by the Widal test.  Further investigation may be needed to confirm this diagnosis.  The elevated ESR supports the presence of inflammation.  Other tested infections (dengue, malaria) were ruled out.  Most other blood parameters are within normal ranges.\n",
            "\n"
          ]
        }
      ]
    },
    {
      "cell_type": "code",
      "source": [
        "def detect_abnormalities(text):\n",
        "  \"\"\"Analyzes lab text results and flags abnormal values.\"\"\"\n",
        "  model=genai.GenerativeModel(\"gemini-1.5-flash\")\n",
        "  prompt=f\"Analyze the lab results in the following report and flag any abnormal values:\\n\\n{text}\"\n",
        "  response=model.generate_content(prompt)\n",
        "  return response.text\n",
        "abnormalities=detect_abnormalities(extracted_text)\n",
        "print(\"Abnormal Values:\\n\",abnormalities)"
      ],
      "metadata": {
        "colab": {
          "base_uri": "https://localhost:8080/",
          "height": 349
        },
        "id": "fOu8R6xdFf9_",
        "outputId": "9710a3ab-1acb-40d0-e651-710a9d55f029"
      },
      "execution_count": 19,
      "outputs": [
        {
          "output_type": "stream",
          "name": "stdout",
          "text": [
            "Abnormal Values:\n",
            " Based on the provided lab results and reference ranges, the following values are abnormal for Mr. Kishan Goud:\n",
            "\n",
            "* **ESR 1st Hour:** 26 mm/hr (Reference range: 0-8 mm/hr).  This is significantly elevated, suggesting inflammation in the body.\n",
            "\n",
            "* **ESR 2nd Hour:** 52 mm/hr.  While no reference range is provided for the second hour, the value is markedly higher than the first hour, further supporting significant inflammation.\n",
            "\n",
            "* **S. Typhi \"O\":** 1:160 dilution (Reference range: 1:20 dilution). This is significantly elevated, suggesting a possible *Salmonella Typhi* infection (typhoid fever).\n",
            "\n",
            "* **S. Typhi \"H\":** 1:80 dilution (Reference range: 1:20 dilution). This is also elevated and supports the possibility of typhoid fever.  The \"O\" and \"H\" results are usually considered together.\n",
            "\n",
            "* **Serum Sodium:** 122 mmol/l (Reference range: 135-146 mmol/l). This is significantly low, indicating hyponatremia (low sodium levels in the blood).\n",
            "\n",
            "* **Serum Chloride:** 97 mmol/l (Reference range: 98-107 mmol/l). This is slightly low, although it's closer to the lower limit of normal.  It should be considered in the context of the low sodium.\n",
            "\n",
            "\n",
            "**Important Note:**  While these values are flagged as abnormal,  it's crucial to remember that I am an AI and cannot provide a diagnosis.  The interpretation of these results requires clinical correlation with the patient's symptoms, medical history, and other findings by a qualified healthcare professional.  The elevated ESR and Widal test results strongly suggest a bacterial infection, particularly typhoid fever, but further investigations might be needed to confirm the diagnosis and rule out other causes.  The low sodium and chloride levels also require evaluation to determine the underlying cause.\n",
            "\n"
          ]
        }
      ]
    },
    {
      "cell_type": "code",
      "source": [
        "def extract_health_insightS(text):\n",
        "\n",
        "  \"\"\"Ask Gemini AI to extract key medical insights from the report.\"\"\"\n",
        "\n",
        "  model=genai.GenerativeModel(\"gemini-1.5-flash\")\n",
        "\n",
        "  prompt=f\"Extract key insights from the following health report:\\nn{text}\"\n",
        "\n",
        "  response=model.generate_content(prompt)\n",
        "\n",
        "  return response.text\n",
        "\n",
        "pdf_file=\"health_report.pdf\"\n",
        "\n",
        "extracted_text=extract_text_from_pdf(pdf_file)\n",
        "\n",
        "insights=extract_health_insightS(extracted_text)\n",
        "\n",
        "print(\"Key Insights:\\n\",insights)"
      ],
      "metadata": {
        "colab": {
          "base_uri": "https://localhost:8080/",
          "height": 540
        },
        "id": "kQxJKjMkG6z3",
        "outputId": "14642732-743a-4b84-f509-9b2fbfe24d3b"
      },
      "execution_count": 20,
      "outputs": [
        {
          "output_type": "stream",
          "name": "stdout",
          "text": [
            "Key Insights:\n",
            " **Key Insights from Mr. Kishan Goud's Health Report (MR2100003157):**\n",
            "\n",
            "The report reveals several findings across different tests conducted on 01/02/2021:\n",
            "\n",
            "**Infectious Disease Markers:**\n",
            "\n",
            "* **Widal Test:**  Elevated titers for *Salmonella Typhi* \"O\" (1:160) and \"H\" (1:80)  suggest a possible past or present *Salmonella Typhi* infection.  However, the reference range is given as a dilution, requiring further interpretation by the physician.  *Salmonella Paratyphi* \"AH\" and \"BH\" titers are within the reference range.\n",
            "* **Dengue Serology:**  Negative results for Dengue NS1 antigen, IgG, and IgM antibodies indicate no evidence of current or recent dengue fever infection.\n",
            "* **Malaria:** Negative rapid malaria tests for both *Plasmodium falciparum* and *Plasmodium vivax* rule out malaria.\n",
            "\n",
            "**Hematology:**\n",
            "\n",
            "* **Complete Blood Picture (CBC):**  Most blood parameters are within normal ranges.  Slightly elevated ESR (26 mm/hr in the first hour, 52 mm/hr in the second hour) suggests possible inflammation.\n",
            "* **Hemoglobin (Hb), RBC, WBC, Platelets, and PCV:** All are within or close to normal ranges.  Differential count shows normal percentages of neutrophils, lymphocytes, monocytes, and eosinophils.\n",
            "* **Peripheral Blood Smear:** Normal findings for RBC, WBC, and platelets.\n",
            "\n",
            "**Biochemistry:**\n",
            "\n",
            "* **Liver Function Tests (LFTs):**  All liver enzymes (bilirubin, alkaline phosphatase, SGOT, SGPT) are within normal limits, indicating normal liver function. Total protein and albumin levels are also within normal ranges.\n",
            "* **Serum Electrolytes:** Serum sodium is slightly low (122 mmol/l), while potassium and chloride are within normal ranges.\n",
            "* **Renal Function:** Serum creatinine is within the normal range (0.8 mg/dl), indicating normal kidney function.\n",
            "* **Blood Glucose:** A random blood glucose level isn't provided in the results presented.  It's indicated by \"Method: GOD-POD METHODmg/dl 60 - 170\" in the header, but the actual measured result is missing.\n",
            "* **HbA1c:**  The HbA1c level is 5.4%, falling within the normal non-diabetic range (4-6%), indicating good blood sugar control.\n",
            "\n",
            "**Overall:**\n",
            "\n",
            "While the elevated Widal test titers suggest possible past or present typhoid fever, the other test results largely show normal or near-normal values.  The slightly low sodium and elevated ESR warrant further investigation and clinical correlation by the physician to determine their significance and the patient's overall health status. The missing random blood glucose result needs to be supplied.  The information provided is insufficient to make a definitive diagnosis.\n",
            "\n"
          ]
        }
      ]
    },
    {
      "cell_type": "code",
      "source": [
        "def ask_gemini_about_report(text, question):\n",
        "\n",
        "    \"\"\"Allows users to ask questions about their health report.\"\"\"\n",
        "\n",
        "    model = genai.GenerativeModel(\"gemini-1.5-flash\")\n",
        "\n",
        "    prompt = f\"The following is a health report:\\n\\n{text}\\n\\nAnswer the following question based on the report:\\n{question}\"\n",
        "\n",
        "    response = model.generate_content(prompt)\n",
        "\n",
        "    return response.text\n",
        "\n",
        "question = \"What is the patient's diagnosis?\"\n",
        "\n",
        "answer = ask_gemini_about_report(extracted_text, question)\n",
        "\n",
        "print(\"Answer:\\n\", answer)"
      ],
      "metadata": {
        "colab": {
          "base_uri": "https://localhost:8080/",
          "height": 89
        },
        "id": "dRDtLWh6JcMM",
        "outputId": "2400e0a2-c351-4908-90a8-85d01338fc74"
      },
      "execution_count": 21,
      "outputs": [
        {
          "output_type": "stream",
          "name": "stdout",
          "text": [
            "Answer:\n",
            " The provided lab report does not offer a diagnosis.  It presents various test results, some showing values outside of the normal ranges (e.g., elevated ESR), but these are only data points.  A diagnosis requires clinical evaluation by a physician considering these results in conjunction with the patient's symptoms and medical history.  The slightly elevated Widal test titers suggest *possible* past exposure to Salmonella Typhi or Paratyphi, but this is not definitive and requires further clinical correlation.  The report provides evidence for further investigation, but does not give a conclusion.\n",
            "\n"
          ]
        }
      ]
    },
    {
      "cell_type": "code",
      "source": [],
      "metadata": {
        "id": "KNbeYJB5JwT1"
      },
      "execution_count": null,
      "outputs": []
    }
  ]
}